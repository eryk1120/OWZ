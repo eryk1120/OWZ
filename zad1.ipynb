{
 "cells": [
  {
   "cell_type": "markdown",
   "metadata": {
    "collapsed": true,
    "pycharm": {
     "name": "#%% md\n"
    }
   },
   "source": [
    "# Zadanie pierwsze -  problem komiwojażera\n",
    "Postawionym zadaniem jest znalezienie optymalnej drogi ruchu narzędzia pozycjonującego elementy elektryczne na płytce, o schemacie umieszczonym poniżej.\n",
    "\n",
    "<img src=\"./zdjęcia/zad1_punkty.png\" width=\"400\">\n",
    "\n",
    "W zadaniu zostały postawione kolejne założenia:\n",
    "- Należy wyznaczyć optymalną odrogę przejścia od punktu (0,0), przez wszystkie wybrane punty (w moim przypadku DHPXZ)\n",
    "- każdy punkt ma podane koordynaty X i Y\n",
    "# Rozwiązanie empiryczne\n",
    "Spoglądając na ustawienie widać wyraźnie, że punkty ustawione są w swego rodzaju okręgu, logicznym będzie więc przejść przez nie wszystkie po kolei, zataczając okrąg wzdłuż granicy płytki. Przykładowo  (0,0)->X->Y->P->H->D\n",
    "# brute force\n",
    "Problem komiwojażra, sprowadza się do znalezienia cyklu/drogi Hamiltona w grafie pełnym zawierającym w sobie N węzłów.Pełnym, gdyż nie ma ograniczenia z którego węzła do którego się poruszamy. odległość między punktami będzie reprezentowana przez wagę krawędzi między danymi węzłami reprezentujące dany punkt. Metoda siłowa polega na sprawdzeniu każdej możliwej kombinacji kolejności punktów oi wybrania najmniejszej  z nich. Nie ma przeszkód zaimplementowania metody siłowej w tym wypadku, gdyż liczba punktów jest nieznaczna."
   ]
  },
  {
   "cell_type": "code",
   "execution_count": 1,
   "outputs": [
    {
     "name": "stdout",
     "output_type": "stream",
     "text": [
      "[1, 2, 3, 4, 5]\n",
      "najlepsza droga to:  0->D->H->P->Z->X ogólny koszt drogi to 8.377039020254788 [in]\n"
     ]
    }
   ],
   "source": [
    "#implementacja\n",
    "import numpy as np\n",
    "import itertools\n",
    "\n",
    "points = [\"o\",\"X\",\"Z\",\"D\",\"H\",\"P\"]\n",
    "points_y=[0,3.18,3.18,0.688,0.688,0.305]\n",
    "points_x=[0,0.450,2.550,0.252,1.825,2.837]\n",
    "\n",
    "def cartesian_distance(x1,x2,y1,y2):\n",
    "    return ((x1-x2)**2+(y1-y2)**2)**0.5\n",
    "\n",
    "graph = np.zeros((len(points),len(points)),dtype=float)\n",
    "\n",
    "# tworzenie macierzy krawędzi grafu\n",
    "for i in range(len(points)):\n",
    "    for j in range(len(points)):\n",
    "        graph[i][j]=cartesian_distance(x1=points_x[i],x2=points_x[j],y1=points_y[i],y2=points_y[j])\n",
    "\n",
    "# obliczanie sumy drogi\n",
    "def _calcTotaDistance(permutation):\n",
    "    totDist = 0\n",
    "    totDist+=graph[permutation[0]][0]\n",
    "    for i in range(len(permutation) - 1):\n",
    "        totDist += graph[permutation[i]][permutation[i + 1]]\n",
    "    return totDist\n",
    "\n",
    "noCheckpoints = len(graph[0])\n",
    "list_of_points_to_visit=[i for i in range(noCheckpoints)]\n",
    "list_of_points_to_visit.pop(0)\n",
    "print(list_of_points_to_visit)\n",
    "permutations = itertools.permutations(list_of_points_to_visit, noCheckpoints-1)\n",
    "\n",
    "lowest = sum(graph[4])\n",
    "bestPermutation = list()\n",
    "\n",
    "for p in permutations:\n",
    "    d = _calcTotaDistance(p)\n",
    "    if lowest > d:\n",
    "        lowest = d\n",
    "        bestPermutation = p\n",
    "\n",
    "\n",
    "# print(lowest)\n",
    "# print(bestPermutation)\n",
    "finish_str = 'najlepsza droga to:  0'\n",
    "for i in bestPermutation:\n",
    "    finish_str+=f'->{points[i]}'\n",
    "\n",
    "print(finish_str+f\" ogólny koszt drogi to {lowest} [in]\")"
   ],
   "metadata": {
    "collapsed": false,
    "pycharm": {
     "name": "#%%\n"
    }
   }
  },
  {
   "cell_type": "markdown",
   "source": [
    "# Wnioski\n",
    "Najlepsza trasa okazała się prawie identyczna do wyznaczonej intuicyjnie, różni się odwrotną kolejnością przejścia przez punkty. Poruszamy się wzdłuż krawędzi odwrotnie do kierunku ruchu wskazówek zegara.\n",
    "\n",
    "Jednostka nie ma tu większego znaczenia. Jest ona jedynie abstrakcyjną miarą wielkości, mimo, że serce podpowiada przejście na jednostki SI, nie jest to w żaden sposób znaczące."
   ],
   "metadata": {
    "collapsed": false,
    "pycharm": {
     "name": "#%% md\n"
    }
   }
  }
 ],
 "metadata": {
  "kernelspec": {
   "display_name": "Python 3",
   "language": "python",
   "name": "python3"
  },
  "language_info": {
   "codemirror_mode": {
    "name": "ipython",
    "version": 2
   },
   "file_extension": ".py",
   "mimetype": "text/x-python",
   "name": "python",
   "nbconvert_exporter": "python",
   "pygments_lexer": "ipython2",
   "version": "2.7.6"
  }
 },
 "nbformat": 4,
 "nbformat_minor": 0
}