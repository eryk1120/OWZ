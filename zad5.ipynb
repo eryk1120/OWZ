{
 "cells": [
  {
   "cell_type": "markdown",
   "source": [
    "# Pseudopolioptymalizacja hamulca ciernego, wielopłytkowego\n",
    "Zadaniem była optymalizacja hamulca wielopłytkowego pod względem czasu hamowania i objętości części roboczej hamulca. Naszymi zmiennymi są średnica płytki ciernej zewnętrzna i wewnętrzna, oraz liczba płytek ciernych.\n",
    "Ograniczemi są nastomiast maksymalne naciski, maksymalne prędkości poślizgu oraz iloczyn tych wartości. Warto również dodać ograniczenia fizyczne, potrzebne do wykonania na przykład minimalna wartość wewjnętrznej średnicy hamulca.\n",
    "## Ograniczenia\n",
    "### ilość płytek\n",
    "ilość płytek można łątwo ograniczyć patrząc na wzór maksymalnej objętości, jest to wzór na objętość cylindra, wzór na liczbę płytek jestśmy w stanie dość prosto wyprowadzić znając powierzchnię podstawy cylindra, gdyż wysokośc jest zależna tylko od liczby płytek.\n",
    "$$\n",
    "H_cyl = k_C g_p + 2k_r \\delta\n",
    "$$\n",
    "W ramach zadania nie została sprecyzowana odległość między płytkami w stanie luźmy, założone zostało 0.05mm\n",
    "### naciski maksymalne\n",
    "Następnym ograniczenie były naciski maksymalne, czyli z grubsza siła nakłądana przez sprężynę na powierzchnię czynn|ą hamulca, wyznaczone wzorem:\n",
    "$$\n",
    "p_{max}=\\frac{4 f_{spr}}{\\pi (D_2-D_1} \\leqq 1Mpa\n",
    "$$\n",
    "### Maksymalna średnia prędkośc poślizgu\n",
    "Jest to maksymalna prędkość średnia względnie poruszających się między sobą płytek.\n",
    "Definiowana jest:\n",
    "$$\n",
    "średnie(\\frac{\\delta \\varphi}{\\delta t})D_{śr}= \\frac{\\Delta \\varphi}{t_{z}}D_{śr}\n",
    "$$\n",
    "Korzystając z zależności:\n",
    "$$\n",
    "I_z \\frac{\\delta^2 \\varphi}{\\delta t^2}=-M_h\n",
    "$$\n",
    "Całkując po czasie t otrzymujemy\n",
    "$$\n",
    "v=\\frac{\\delta \\varphi}{\\delta t}=\\frac{-M_h t_z}{I_z}+c =\n",
    "$$"
   ],
   "metadata": {
    "collapsed": false,
    "pycharm": {
     "name": "#%% md\n"
    }
   }
  },
  {
   "cell_type": "code",
   "execution_count": 12,
   "outputs": [],
   "source": [
    "from scipy.optimize import minimize\n",
    "import numpy as np\n",
    "\n",
    "# indywidualne\n",
    "I_z = 0.001\n",
    "n = 1200\n",
    "t_h_max = 0.3\n",
    "D_max = 22\n",
    "l_pmax = 11\n",
    "F_spr = 80\n",
    "p_max = 1\n",
    "g_p = 0.8\n",
    "delta = 0.05\n",
    "mi = 0.8\n",
    "# ogólne\n",
    "\n",
    "W1 = 0.5\n",
    "W2 = 0.5/30\n",
    "kr_max = int(0.5 * (11 - g_p) / (g_p + delta))\n",
    "kr = 1\n",
    "\n",
    "O_max = (22 ** 2) * np.pi / 4 * l_pmax"
   ],
   "metadata": {
    "collapsed": false,
    "pycharm": {
     "name": "#%%\n"
    }
   }
  },
  {
   "cell_type": "code",
   "execution_count": 13,
   "outputs": [],
   "source": [
    "def Q1(x):\n",
    "    return (I_z * n / (2 * kr * F_spr * mi * (x[0] + x[1]) / 4)) / t_h_max\n",
    "\n",
    "\n",
    "def Q2(x):\n",
    "    return (x[1] ** 2 / 4) * ((2 * kr + 1) * g_p + 2 * kr * delta) / O_max\n",
    "\n",
    "\n",
    "def Q(D):\n",
    "    print(kr)\n",
    "    return Q1(x=D) * W1 + Q2(x=D) * W2\n",
    "\n",
    "\n",
    "x_1_bounds = (1, 20)\n",
    "x_2_bounds = (5, 22)\n",
    "#d[0] wewnętrzna\n",
    "#d[1] zewnętrzna\n"
   ],
   "metadata": {
    "collapsed": false,
    "pycharm": {
     "name": "#%%\n"
    }
   }
  },
  {
   "cell_type": "code",
   "execution_count": 14,
   "outputs": [
    {
     "data": {
      "text/plain": "2323.5837720205686"
     },
     "execution_count": 14,
     "metadata": {},
     "output_type": "execute_result"
    }
   ],
   "source": [
    "5 + kr * ((20 + 22) / 2) * (np.pi * F_spr * mi) / (I_z * n) - n"
   ],
   "metadata": {
    "collapsed": false,
    "pycharm": {
     "name": "#%%\n"
    }
   }
  },
  {
   "cell_type": "code",
   "execution_count": 15,
   "outputs": [
    {
     "name": "stdout",
     "output_type": "stream",
     "text": [
      "-51471849.03641517\n",
      "3.994690350851266\n"
     ]
    }
   ],
   "source": [
    "x = [10, 22]\n",
    "print(5 - np.pi / I_z * (x[0] + x[1]) / 2 * F_spr * mi * kr * (x[0] + x[1]) / 2)\n",
    "print(5 - np.pi * (x[0] + x[1]) / 2 * n/60/1000)"
   ],
   "metadata": {
    "collapsed": false,
    "pycharm": {
     "name": "#%%\n"
    }
   }
  },
  {
   "cell_type": "code",
   "execution_count": 16,
   "outputs": [],
   "source": [
    "ineq_cons = {'type': 'ineq',\n",
    "             'fun': lambda x: np.array([\n",
    "                 # różnica między D1 i D2\n",
    "                 x[1] - 2 - x[0],\n",
    "                 #3\n",
    "                 (x[1] ** 2 - x[0] ** 2) - 4 * F_spr / np.pi,\n",
    "                 # 4\n",
    "                 5 - np.pi * (x[0] + x[1]) / 2 * n/60/1000,\n",
    "                 #5\n",
    "                 4-( (x[1] ** 2 - x[0] ** 2) - 4 * F_spr / np.pi)*(5 - np.pi * (x[0] + x[1]) / 2 * n/60/1000),\n",
    "                 #6*\n",
    "                 x[0] - 3,\n",
    "\n",
    "             ])\n",
    "             }"
   ],
   "metadata": {
    "collapsed": false,
    "pycharm": {
     "name": "#%%\n"
    }
   }
  },
  {
   "cell_type": "code",
   "execution_count": 17,
   "outputs": [
    {
     "name": "stdout",
     "output_type": "stream",
     "text": [
      "Optimization terminated successfully    (Exit mode 0)\n",
      "            Current function value: 0.0030085377828395115\n",
      "            Iterations: 19\n",
      "            Function evaluations: 63\n",
      "            Gradient evaluations: 19\n",
      "     fun: 0.0030085377828395115\n",
      "     jac: array([-7.24103884e-05, -7.24103884e-05])\n",
      " message: 'Optimization terminated successfully'\n",
      "    nfev: 63\n",
      "     nit: 19\n",
      "    njev: 19\n",
      "  status: 0\n",
      " success: True\n",
      "       x: array([19.54842286, 22.        ])\n",
      "1\n",
      "0.0027099881572674477\n"
     ]
    }
   ],
   "source": [
    "res = minimize(Q1, x0=(5, 20), method='SLSQP', constraints=ineq_cons,\n",
    "               options={'ftol': 1e-10, 'disp': True},\n",
    "               bounds=(x_1_bounds, x_2_bounds))\n",
    "print(res)\n",
    "print(Q(res.x))"
   ],
   "metadata": {
    "collapsed": false,
    "pycharm": {
     "name": "#%%\n"
    }
   }
  },
  {
   "cell_type": "code",
   "execution_count": 18,
   "outputs": [
    {
     "name": "stdout",
     "output_type": "stream",
     "text": [
      "Optimization terminated successfully    (Exit mode 0)\n",
      "            Current function value: 0.0030085377828395115\n",
      "            Iterations: 19\n",
      "            Function evaluations: 63\n",
      "            Gradient evaluations: 19\n",
      "dla kr=1 otrzymujemy  minimum funckji: Q=0.0030085377828395115, dla wartości D1=19.548422862757864, D2=22.0\n",
      "Optimization terminated successfully    (Exit mode 0)\n",
      "            Current function value: 0.0015042688914197622\n",
      "            Iterations: 20\n",
      "            Function evaluations: 67\n",
      "            Gradient evaluations: 20\n",
      "dla kr=2 otrzymujemy  minimum funckji: Q=0.0015042688914197622, dla wartości D1=19.548422862757675, D2=22.0\n",
      "Optimization terminated successfully    (Exit mode 0)\n",
      "            Current function value: 0.0010028459276131751\n",
      "            Iterations: 20\n",
      "            Function evaluations: 67\n",
      "            Gradient evaluations: 20\n",
      "dla kr=3 otrzymujemy  minimum funckji: Q=0.0010028459276131751, dla wartości D1=19.548422862757675, D2=22.0\n",
      "Optimization terminated successfully    (Exit mode 0)\n",
      "            Current function value: 0.0007521344457098811\n",
      "            Iterations: 21\n",
      "            Function evaluations: 71\n",
      "            Gradient evaluations: 21\n",
      "dla kr=4 otrzymujemy  minimum funckji: Q=0.0007521344457098811, dla wartości D1=19.548422862757675, D2=22.0\n"
     ]
    }
   ],
   "source": [
    "for K_i in range(1, int(kr_max)):\n",
    "    kr = K_i\n",
    "    res = minimize(Q1, x0=(5, 20), method='SLSQP', constraints=ineq_cons,\n",
    "                   options={'ftol': 1e-10, 'disp': True},\n",
    "                   bounds=(x_1_bounds, x_2_bounds))\n",
    "    print(f'dla kr={K_i} otrzymujemy  minimum funckji: Q={res.fun}, dla wartości D1={res.x[0]}, D2={res.x[1]}')"
   ],
   "metadata": {
    "collapsed": false,
    "pycharm": {
     "name": "#%%\n"
    }
   }
  },
  {
   "cell_type": "code",
   "execution_count": 19,
   "outputs": [],
   "source": [
    "def plot_surface(func):\n",
    "    import numpy as np\n",
    "    import matplotlib.pyplot as plt\n",
    "\n",
    "    x = np.linspace(3, 22, 100)\n",
    "    y = np.linspace(2, 20, 100)\n",
    "\n",
    "    X, Y = np.meshgrid(x, y)\n",
    "\n",
    "    def f(x, y):\n",
    "        return func([x, y])\n",
    "\n",
    "    Z = f(X, Y)\n",
    "\n",
    "    fig = plt.figure()\n",
    "    # ax = plt.axes(projection='3d')\n",
    "    # ax.plot_surface(X, Y, Z, rstride=1, cstride=1, cmap='jet', edgecolor='none')\n",
    "    y1 = 3\n",
    "    y2 = 2 - x[0]\n",
    "\n",
    "    plt.imshow(Z, extent=[3, 22, 2, 20])\n",
    "    plt.colorbar()\n",
    "    plt.show()"
   ],
   "metadata": {
    "collapsed": false,
    "pycharm": {
     "name": "#%%\n"
    }
   }
  },
  {
   "cell_type": "code",
   "execution_count": 20,
   "outputs": [
    {
     "data": {
      "text/plain": "<Figure size 432x288 with 2 Axes>",
      "image/png": "[encoded data removed]"
     },
     "metadata": {
      "needs_background": "light"
     },
     "output_type": "display_data"
    }
   ],
   "source": [
    "# %matplotlib notebook\n",
    "plot_surface(Q1)"
   ],
   "metadata": {
    "collapsed": false,
    "pycharm": {
     "name": "#%%\n"
    }
   }
  },
  {
   "cell_type": "code",
   "execution_count": 21,
   "outputs": [
    {
     "data": {
      "text/plain": "<Figure size 432x288 with 2 Axes>",
      "image/png": "[encoded data removed]"
     },
     "metadata": {
      "needs_background": "light"
     },
     "output_type": "display_data"
    }
   ],
   "source": [
    "# %matplotlib notebook\n",
    "plot_surface(Q2)"
   ],
   "metadata": {
    "collapsed": false,
    "pycharm": {
     "name": "#%%\n"
    }
   }
  },
  {
   "cell_type": "code",
   "execution_count": 22,
   "outputs": [
    {
     "name": "stdout",
     "output_type": "stream",
     "text": [
      "4\n"
     ]
    },
    {
     "data": {
      "text/plain": "<Figure size 432x288 with 2 Axes>",
      "image/png": "[encoded data removed]"
     },
     "metadata": {
      "needs_background": "light"
     },
     "output_type": "display_data"
    }
   ],
   "source": [
    "# %matplotlib notebook\n",
    "plot_surface(Q)"
   ],
   "metadata": {
    "collapsed": false,
    "pycharm": {
     "name": "#%%\n"
    }
   }
  },
  {
   "cell_type": "code",
   "execution_count": 11,
   "outputs": [],
   "source": [],
   "metadata": {
    "collapsed": false,
    "pycharm": {
     "name": "#%%\n"
    }
   }
  }
 ],
 "metadata": {
  "kernelspec": {
   "display_name": "Python 3",
   "language": "python",
   "name": "python3"
  },
  "language_info": {
   "codemirror_mode": {
    "name": "ipython",
    "version": 2
   },
   "file_extension": ".py",
   "mimetype": "text/x-python",
   "name": "python",
   "nbconvert_exporter": "python",
   "pygments_lexer": "ipython2",
   "version": "2.7.6"
  }
 },
 "nbformat": 4,
 "nbformat_minor": 0
}