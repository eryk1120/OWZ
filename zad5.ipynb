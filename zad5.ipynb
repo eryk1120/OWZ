{
 "cells": [
  {
   "cell_type": "markdown",
   "metadata": {
    "pycharm": {
     "name": "#%% md\n"
    }
   },
   "source": [
    "# Pseudopolioptymalizacja hamulca ciernego, wielopłytkowego\n",
    "Zadaniem była optymalizacja hamulca wielopłytkowego pod względem czasu hamowania i objętości części roboczej hamulca. Naszymi zmiennymi są średnica płytki ciernej zewnętrzna i wewnętrzna, oraz liczba płytek ciernych.\n",
    "Ograniczemi są nastomiast maksymalne naciski, maksymalne prędkości poślizgu oraz iloczyn tych wartości. Warto również dodać ograniczenia fizyczne, potrzebne do wykonania na przykład minimalna wartość wewjnętrznej średnicy hamulca.\n"
   ]
  },
  {
   "cell_type": "markdown",
   "metadata": {
    "pycharm": {
     "name": "#%% md\n"
    }
   },
   "source": [
    "# Funkcja celu\n",
    "Naszym celem jest zoptymlizowanie 3 parametrów, tak by otrzymać jak najmniejsze fizycznie urządzenie o minimalnym czasie hamowania z prędkości jałowej. Udostępnione zostały również graniczne dozwolone wartości dla zewnętrznej średnicy tarczy i długości hamulca, pozawlające oszacować maksymalną objętość, oraz maksymalny czas hamowania. Pozwoli to nam znormalizować funkcje celu, by wygodniej je porównywać.\n",
    "\n",
    "## Czas hamowania\n",
    "Funkcja czasu hamowania jest określona następującym wzorem:\n",
    "$$\n",
    "t_z = \\frac{I_z n_{obr}}{M_h}\n",
    "$$\n",
    "Za funkcję celu można przyjąć czas ten znormalizowany przez czas maksymalny dozwolony\n",
    "$$\n",
    "Q_1 = \\frac{t_z}{t_{hmax}} = \\frac{I_z n_{obr}}{M_h t_{hmax}}\n",
    "$$\n",
    "\n",
    "## Objętość\n",
    "Objętość jest równaniem na objętość cylindra opisującego mechanizm, zależy od średnicy zewnętrznej tarczy, ilości tarcz ruchomych oraz przerwami między nimi w pozycji spoczynku hamulca.\n",
    "\n",
    "$$\n",
    "O = \\pi \\frac{D_2^2}{4} k_c g_p+2 k_r \\delta\n",
    "$$\n",
    "\n",
    "Funkcja celu więc:\n",
    "\n",
    "$$\n",
    "Q_2 = \\frac{O}{O_{max}} = \\frac{\\pi \\frac{D_2^2}{4} (k_c g_p+2 k_r \\delta)}{\\pi \\frac{D_{2MAX}^2}{4} L_{pmax}}\n",
    "$$\n",
    "## Funckja celu\n",
    "Końcowo funkcję celu można przyjąć jako ważoną sumę poszczególnych funkcji celu. Współczynniki zostały tak dobrane, by było widać wpływ obu funkcji, czyli wyrównano rzędy wielkości. Ma to cel czysto wizualizacyjny i poglądowy.\n",
    "$$\n",
    "Q=Q_1W_1+Q_2W_2=0.5Q_1+0.017Q_2\n",
    "$$"
   ]
  },
  {
   "cell_type": "markdown",
   "metadata": {
    "pycharm": {
     "name": "#%% md\n"
    }
   },
   "source": [
    "## Ograniczenia\n",
    "### ilość płytek\n",
    "ilość płytek można łątwo ograniczyć patrząc na wzór maksymalnej objętości, jest to wzór na objętość cylindra, wzór na liczbę płytek jestśmy w stanie dość prosto wyprowadzić znając powierzchnię podstawy cylindra, gdyż wysokośc jest zależna tylko od liczby płytek.\n",
    "$$\n",
    "H_cyl = k_C g_p + 2k_r \\delta\n",
    "$$\n",
    "W ramach zadania nie została sprecyzowana odległość między płytkami w stanie luźmy, założone zostało 0.05mm\n",
    "### naciski maksymalne\n",
    "Następnym ograniczenie były naciski maksymalne, czyli z grubsza siła nakłądana przez sprężynę na powierzchnię czynną hamulca, wyznaczone wzorem:\n",
    "$$\n",
    "p_{max}=\\frac{4 f_{spr}}{\\pi (D_2-D_1} \\leqq 1Mpa\n",
    "$$\n",
    "### Maksymalna średnia prędkośc poślizgu\n",
    "Jest to maksymalna prędkość średnia względnie poruszających się między sobą płytek.\n",
    "Definiowana jest:\n",
    "$$\n",
    "średnie(\\frac{\\delta \\varphi}{\\delta t})D_{śr}= \\frac{\\Delta \\varphi}{t_{z}}D_{śr}\n",
    "$$\n",
    "Korzystając z zależności:\n",
    "$$\n",
    "I_z \\frac{\\delta^2 \\varphi}{\\delta t^2}=-M_h\n",
    "$$\n",
    "Całkując po czasie t otrzymujemy\n",
    "$$\n",
    "v=\\frac{\\delta \\varphi}{\\delta t}=\\frac{-M_h t_z}{I_z}\n",
    "$$\n",
    "Można wyprowadzić:\n",
    "$$\n",
    "V_{śr}= \\pi D_{śr} * \\frac{n_{obr}}{60*1000}    [\\frac{m}{s}]\n",
    "$$"
   ]
  },
  {
   "cell_type": "code",
   "execution_count": 25,
   "metadata": {
    "pycharm": {
     "name": "#%%\n"
    }
   },
   "outputs": [],
   "source": [
    "from scipy.optimize import minimize\n",
    "import numpy as np\n",
    "\n",
    "# indywidualne\n",
    "I_z = 0.001\n",
    "n = 1200\n",
    "t_h_max = 0.3\n",
    "D_max = 22\n",
    "l_pmax = 11\n",
    "F_spr = 80\n",
    "p_max = 1\n",
    "g_p = 0.8\n",
    "delta = 0.05\n",
    "mi = 0.8\n",
    "# ogólne\n",
    "\n",
    "W1 = 0.5\n",
    "W2 = 0.5/30\n",
    "kr_max = int(0.5 * (11 - g_p) / (g_p + delta))\n",
    "kr = 1\n",
    "\n",
    "O_max = (22 ** 2) * np.pi / 4 * l_pmax"
   ]
  },
  {
   "cell_type": "code",
   "execution_count": 26,
   "metadata": {
    "pycharm": {
     "name": "#%%\n"
    }
   },
   "outputs": [],
   "source": [
    "def Q1(x):\n",
    "    return (I_z * n / (2 * kr * F_spr * mi * (x[0] + x[1]) / 4)) / t_h_max\n",
    "\n",
    "\n",
    "def Q2(x):\n",
    "    return (x[1] ** 2 / 4) * ((2 * kr + 1) * g_p + 2 * kr * delta) / O_max\n",
    "\n",
    "\n",
    "def Q(D):\n",
    "    print(kr)\n",
    "    return Q1(x=D) * W1 + Q2(x=D) * W2\n",
    "\n",
    "\n",
    "x_1_bounds = (1, 20)\n",
    "x_2_bounds = (5, 22)\n",
    "#d[0] wewnętrzna\n",
    "#d[1] zewnętrzna\n"
   ]
  },
  {
   "cell_type": "code",
   "execution_count": 27,
   "metadata": {
    "pycharm": {
     "name": "#%%\n"
    }
   },
   "outputs": [],
   "source": [
    "ineq_cons = {'type': 'ineq',\n",
    "             'fun': lambda x: np.array([\n",
    "                 # różnica między D1 i D2\n",
    "                 x[1] - 2 - x[0],\n",
    "                 # Naciski maksymalne\n",
    "                 (x[1] ** 2 - x[0] ** 2) - 4 * F_spr / np.pi,\n",
    "                 # Prędkość poślizgu\n",
    "                 5 - np.pi * (x[0] + x[1]) / 2 * n/60/1000,\n",
    "                 # pv max\n",
    "                 4-( (x[1] ** 2 - x[0] ** 2) - 4 * F_spr / np.pi)*(5 - np.pi * (x[0] + x[1]) / 2 * n/60/1000),\n",
    "                 # minimalny rozmiar wewnętrznej średnicy\n",
    "                 x[0] - 3,\n",
    "\n",
    "             ])\n",
    "             }"
   ]
  },
  {
   "cell_type": "code",
   "execution_count": 28,
   "metadata": {
    "pycharm": {
     "name": "#%%\n"
    }
   },
   "outputs": [
    {
     "name": "stdout",
     "output_type": "stream",
     "text": [
      "Optimization terminated successfully    (Exit mode 0)\n",
      "            Current function value: 0.0030085377828395115\n",
      "            Iterations: 19\n",
      "            Function evaluations: 63\n",
      "            Gradient evaluations: 19\n",
      "     fun: 0.0030085377828395115\n",
      "     jac: array([-7.24103884e-05, -7.24103884e-05])\n",
      " message: 'Optimization terminated successfully'\n",
      "    nfev: 63\n",
      "     nit: 19\n",
      "    njev: 19\n",
      "  status: 0\n",
      " success: True\n",
      "       x: array([19.54842286, 22.        ])\n",
      "1\n",
      "0.0027099881572674477\n"
     ]
    }
   ],
   "source": [
    "res = minimize(Q1, x0=(5, 20), method='SLSQP', constraints=ineq_cons,\n",
    "               options={'ftol': 1e-10, 'disp': True},\n",
    "               bounds=(x_1_bounds, x_2_bounds))\n",
    "print(res)\n",
    "print(Q(res.x))"
   ]
  },
  {
   "cell_type": "markdown",
   "metadata": {
    "pycharm": {
     "name": "#%% md\n"
    }
   },
   "source": [
    "# Wyegzgekwowanie\n",
    "Podobnie jak w zadaniu 4 użyto solvera SLSQP, niestety ze względu na problemy w implementacji ograniczenia zbiorem dyskretnym, wykonana została iteracyjnie dla wszystkich możliwych ilość płtyek ruchomych k_r."
   ]
  },
  {
   "cell_type": "code",
   "execution_count": 29,
   "metadata": {
    "pycharm": {
     "name": "#%%\n"
    }
   },
   "outputs": [
    {
     "name": "stderr",
     "output_type": "stream",
     "text": [
      "/tmp/ipykernel_14893/2659623539.py:1: DeprecationWarning: Importing display from IPython.core.display is deprecated since IPython 7.14, please import from IPython display\n",
      "  from IPython.core.display import display, HTML\n"
     ]
    },
    {
     "data": {
      "text/html": [
       "<style>div.output_scroll { height: 44em; }</style>"
      ],
      "text/plain": [
       "<IPython.core.display.HTML object>"
      ]
     },
     "metadata": {},
     "output_type": "display_data"
    }
   ],
   "source": [
    "from IPython.core.display import display, HTML\n",
    "display(HTML(\"<style>div.output_scroll { height: 44em; }</style>\"))"
   ]
  },
  {
   "cell_type": "code",
   "execution_count": 30,
   "metadata": {
    "pycharm": {
     "name": "#%%\n"
    }
   },
   "outputs": [
    {
     "name": "stdout",
     "output_type": "stream",
     "text": [
      "Optimization terminated successfully    (Exit mode 0)\n",
      "            Current function value: 0.0030085377828395115\n",
      "            Iterations: 19\n",
      "            Function evaluations: 63\n",
      "            Gradient evaluations: 19\n",
      "dla kr=1 otrzymujemy  minimum funckji: Q=0.0030085377828395115, dla wartości D1=19.548422862757864, D2=22.0\n",
      "Optimization terminated successfully    (Exit mode 0)\n",
      "            Current function value: 0.0015042688914197622\n",
      "            Iterations: 20\n",
      "            Function evaluations: 67\n",
      "            Gradient evaluations: 20\n",
      "dla kr=2 otrzymujemy  minimum funckji: Q=0.0015042688914197622, dla wartości D1=19.548422862757675, D2=22.0\n",
      "Optimization terminated successfully    (Exit mode 0)\n",
      "            Current function value: 0.0010028459276131751\n",
      "            Iterations: 20\n",
      "            Function evaluations: 67\n",
      "            Gradient evaluations: 20\n",
      "dla kr=3 otrzymujemy  minimum funckji: Q=0.0010028459276131751, dla wartości D1=19.548422862757675, D2=22.0\n",
      "Optimization terminated successfully    (Exit mode 0)\n",
      "            Current function value: 0.0007521344457098811\n",
      "            Iterations: 21\n",
      "            Function evaluations: 71\n",
      "            Gradient evaluations: 21\n",
      "dla kr=4 otrzymujemy  minimum funckji: Q=0.0007521344457098811, dla wartości D1=19.548422862757675, D2=22.0\n"
     ]
    }
   ],
   "source": [
    "for K_i in range(1, int(kr_max)):\n",
    "    kr = K_i\n",
    "    res = minimize(Q1, x0=(5, 20), method='SLSQP', constraints=ineq_cons,\n",
    "                   options={'ftol': 1e-10, 'disp': True},\n",
    "                   bounds=(x_1_bounds, x_2_bounds))\n",
    "    print(f'dla kr={K_i} otrzymujemy  minimum funckji: Q={res.fun}, dla wartości D1={res.x[0]}, D2={res.x[1]}')"
   ]
  },
  {
   "cell_type": "code",
   "execution_count": 31,
   "metadata": {
    "pycharm": {
     "name": "#%%\n"
    }
   },
   "outputs": [],
   "source": [
    "def plot_surface(func):\n",
    "    import numpy as np\n",
    "    import matplotlib.pyplot as plt\n",
    "\n",
    "    x = np.linspace(3, 22, 100)\n",
    "    y = np.linspace(2, 20, 100)\n",
    "\n",
    "    X, Y = np.meshgrid(x, y)\n",
    "\n",
    "    def f(x, y):\n",
    "        return func([x, y])\n",
    "\n",
    "    Z = f(X, Y)\n",
    "\n",
    "    fig = plt.figure(figsize=(16,9))\n",
    "    # ax = plt.axes(projection='3d')\n",
    "    # ax.plot_surface(X, Y, Z, rstride=1, cstride=1, cmap='jet', edgecolor='none')\n",
    "    y1 = 3\n",
    "    y2 = 2 - x[0]\n",
    "\n",
    "    plt.imshow(Z, extent=[3, 22, 2, 20])\n",
    "    plt.colorbar()\n",
    "    plt.show()"
   ]
  },
  {
   "cell_type": "markdown",
   "metadata": {
    "pycharm": {
     "name": "#%% md\n"
    }
   },
   "source": [
    "# Funckja Q1"
   ]
  },
  {
   "cell_type": "code",
   "execution_count": 32,
   "metadata": {
    "pycharm": {
     "name": "#%%\n"
    }
   },
   "outputs": [
    {
     "data": {
      "image/png": "[encoded data removed]",
      "text/plain": [
       "<Figure size 1152x648 with 2 Axes>"
      ]
     },
     "metadata": {
      "needs_background": "light"
     },
     "output_type": "display_data"
    }
   ],
   "source": [
    "# %matplotlib notebook\n",
    "plot_surface(Q1)"
   ]
  },
  {
   "cell_type": "markdown",
   "metadata": {
    "pycharm": {
     "name": "#%% md\n"
    }
   },
   "source": [
    "# Funckja Q2"
   ]
  },
  {
   "cell_type": "code",
   "execution_count": 33,
   "metadata": {
    "pycharm": {
     "name": "#%%\n"
    }
   },
   "outputs": [
    {
     "data": {
      "image/png": "[encoded data removed]",
      "text/plain": [
       "<Figure size 1152x648 with 2 Axes>"
      ]
     },
     "metadata": {
      "needs_background": "light"
     },
     "output_type": "display_data"
    }
   ],
   "source": [
    "# %matplotlib notebook\n",
    "plot_surface(Q2)"
   ]
  },
  {
   "cell_type": "markdown",
   "metadata": {
    "pycharm": {
     "name": "#%% md\n"
    }
   },
   "source": [
    "# Funkcja Q"
   ]
  },
  {
   "cell_type": "code",
   "execution_count": 34,
   "metadata": {
    "pycharm": {
     "name": "#%%\n"
    }
   },
   "outputs": [
    {
     "name": "stdout",
     "output_type": "stream",
     "text": [
      "4\n"
     ]
    },
    {
     "data": {
      "image/png": "[encoded data removed]",
      "text/plain": [
       "<Figure size 1152x648 with 2 Axes>"
      ]
     },
     "metadata": {
      "needs_background": "light"
     },
     "output_type": "display_data"
    }
   ],
   "source": [
    "# %matplotlib notebook\n",
    "plot_surface(Q)"
   ]
  },
  {
   "cell_type": "markdown",
   "metadata": {
    "pycharm": {
     "name": "#%% md\n"
    }
   },
   "source": [
    "# Wnioski\n",
    "* można zauważyć bardzo nieznaczny wpływ liczby k_r na wynik, może to oznaczaćzłe zbalansowanie współczynników W i ogólnych funkcji Q_n\n",
    "* Wynik dla najlepszych parametrów to teoretycznie D_1 = 19.45, D_2 = 22, k_r=4, gdzie widać tu ograniczenie wartości D_1 warunkiem o maksymalne naciski, widać też teoretyczni zbyt mały wpływ warunku o rozmiarze  "
   ]
  }
 ],
 "metadata": {
  "kernelspec": {
   "display_name": "Python 3 (ipykernel)",
   "language": "python",
   "name": "python3"
  },
  "language_info": {
   "codemirror_mode": {
    "name": "ipython",
    "version": 3
   },
   "file_extension": ".py",
   "mimetype": "text/x-python",
   "name": "python",
   "nbconvert_exporter": "python",
   "pygments_lexer": "ipython3",
   "version": "3.10.2"
  }
 },
 "nbformat": 4,
 "nbformat_minor": 1
}