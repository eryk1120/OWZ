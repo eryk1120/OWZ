{
 "cells": [
  {
   "cell_type": "code",
   "execution_count": 66,
   "metadata": {
    "collapsed": true
   },
   "outputs": [],
   "source": [
    "from scipy.optimize import minimize, LinearConstraint, NonlinearConstraint\n",
    "import numpy as np"
   ]
  },
  {
   "cell_type": "code",
   "execution_count": 120,
   "outputs": [],
   "source": [
    "fun = lambda x: (0.08 + (0.3 / x[0]) + 0.000025 * x[0] ** 3) / x[1]"
   ],
   "metadata": {
    "collapsed": false,
    "pycharm": {
     "name": "#%%\n"
    }
   }
  },
  {
   "cell_type": "code",
   "execution_count": 125,
   "outputs": [
    {
     "name": "stdout",
     "output_type": "stream",
     "text": [
      "[ 7.95272001  2.79999938 13.53695362]\n"
     ]
    }
   ],
   "source": [
    "\n",
    "def constrain1(x):\n",
    "    return x[0]\n",
    "\n",
    "\n",
    "def constrain2(x):\n",
    "    return x[1]\n",
    "\n",
    "\n",
    "my_constrain = [NonlinearConstraint(constrain1, 0, 0.8),\n",
    "                NonlinearConstraint(constrain2, 0, 2),\n",
    "                ]\n",
    "\n",
    "res = minimize(fun, (1, 1, 1), method='trust-constr', bounds=((7, 12), (0.32, 2.8), (10, 100)))\n",
    "print(res.x)"
   ],
   "metadata": {
    "collapsed": false,
    "pycharm": {
     "name": "#%%\n"
    }
   }
  },
  {
   "cell_type": "code",
   "execution_count": 123,
   "outputs": [
    {
     "data": {
      "text/plain": "1"
     },
     "execution_count": 123,
     "metadata": {},
     "output_type": "execute_result"
    }
   ],
   "source": [
    "res.status"
   ],
   "metadata": {
    "collapsed": false,
    "pycharm": {
     "name": "#%%\n"
    }
   }
  },
  {
   "cell_type": "code",
   "execution_count": 196,
   "outputs": [],
   "source": [
    "# indywidualne\n",
    "f_max = 25\n",
    "D_max = 14\n",
    "z_pom = 2\n",
    "l_spr_max = 130\n",
    "k = 0.3\n",
    "# ogólne\n",
    "n_min = 10\n",
    "G_spr = 8000\n",
    "t_n = 0.25\n",
    "t_D = 0.1\n",
    "t_d = (0.02, 0.03, 0.04)\n",
    "g_z = 9.81\n",
    "\n",
    "\n",
    "def Q(x):\n",
    "    if x[1] <= 0.55 and x[1] >= 0.32:\n",
    "        return k / x[1] * ((3 / x[0] * t_D) + (4 * t_d[0]) + (8 * x[0] ** 3 * k * t_n / G_spr))\n",
    "    elif x[1] > 0.55 and x[1] < 0.9:\n",
    "        return k / x[1] * ((3 / x[0] * t_D) + (4 * t_d[1]) + (8 * x[0] ** 3 * k * t_n / G_spr))\n",
    "    elif x[1] >= 0.9:\n",
    "        return k / x[1] * ((3 / x[0] * t_D) + (4 * t_d[2]) + (8 * x[0] ** 3 * k * t_n / G_spr))\n",
    "\n",
    "\n",
    "fun = lambda x: (0.08 + (0.3 / x[0]) + 0.000025 * x[0] ** 3) / x[1]\n"
   ],
   "metadata": {
    "collapsed": false,
    "pycharm": {
     "name": "#%%\n"
    }
   }
  },
  {
   "cell_type": "code",
   "execution_count": 223,
   "outputs": [],
   "source": [
    "ineq_cons = {'type': 'ineq',\n",
    "             'fun': lambda x: np.array([\n",
    "                 # B\n",
    "                 -x[0]+0,2764*np.sqrt((x[0]-0.25)/(x[0]-1)+0.615/x[0]),\n",
    "                 # C\n",
    "                 14 -  x[0] * x[1],  #warunek średnicy\n",
    "                 # D\n",
    "                 x[1]-10*8*x[0]**3*k/G_spr,\n",
    "                 # E\n",
    "                 x[0] - 7\n",
    "\n",
    "\n",
    "             ])\n",
    "             }\n",
    "eq_cons = {'type': 'eq',\n",
    "           'fun': lambda x: np.array([\n",
    "               x[2] - G_spr * x[1] / (8 * k * x[0] ** 3),  #warunek xD\n",
    "           ])\n",
    "           }\n",
    "\n"
   ],
   "metadata": {
    "collapsed": false,
    "pycharm": {
     "name": "#%%\n"
    }
   }
  },
  {
   "cell_type": "code",
   "execution_count": 224,
   "outputs": [
    {
     "name": "stdout",
     "output_type": "stream",
     "text": [
      "     fun: 0.034287321428571355\n",
      "     jac: array([ 0.00073538, -0.01714366,  0.        ])\n",
      " message: 'Positive directional derivative for linesearch'\n",
      "    nfev: 72\n",
      "     nit: 17\n",
      "    njev: 13\n",
      "  status: 8\n",
      " success: False\n",
      "       x: array([ 7.        ,  2.        , 22.43355691])\n"
     ]
    }
   ],
   "source": [
    "res = minimize(Q, x0=(10, 1, 10), method='SLSQP', constraints=[eq_cons, ineq_cons],\n",
    "               bounds=((7, 12), (0.32, 2.8), (10, 100)))\n",
    "print(res)"
   ],
   "metadata": {
    "collapsed": false,
    "pycharm": {
     "name": "#%%\n"
    }
   }
  },
  {
   "cell_type": "code",
   "execution_count": 226,
   "outputs": [
    {
     "data": {
      "text/plain": "0.034287321428571424"
     },
     "execution_count": 226,
     "metadata": {},
     "output_type": "execute_result"
    }
   ],
   "source": [
    "Q(x=np.array([7.        ,  2.        , 22.43355691]))"
   ],
   "metadata": {
    "collapsed": false,
    "pycharm": {
     "name": "#%%\n"
    }
   }
  },
  {
   "cell_type": "code",
   "execution_count": 227,
   "outputs": [
    {
     "data": {
      "text/plain": "19.436345966958214"
     },
     "execution_count": 227,
     "metadata": {},
     "output_type": "execute_result"
    }
   ],
   "source": [
    "G_spr * 2 / (8 * k *  7** 3)"
   ],
   "metadata": {
    "collapsed": false,
    "pycharm": {
     "name": "#%%\n"
    }
   }
  },
  {
   "cell_type": "code",
   "execution_count": null,
   "outputs": [],
   "source": [],
   "metadata": {
    "collapsed": false,
    "pycharm": {
     "name": "#%%\n"
    }
   }
  }
 ],
 "metadata": {
  "kernelspec": {
   "display_name": "Python 3",
   "language": "python",
   "name": "python3"
  },
  "language_info": {
   "codemirror_mode": {
    "name": "ipython",
    "version": 2
   },
   "file_extension": ".py",
   "mimetype": "text/x-python",
   "name": "python",
   "nbconvert_exporter": "python",
   "pygments_lexer": "ipython2",
   "version": "2.7.6"
  }
 },
 "nbformat": 4,
 "nbformat_minor": 0
}